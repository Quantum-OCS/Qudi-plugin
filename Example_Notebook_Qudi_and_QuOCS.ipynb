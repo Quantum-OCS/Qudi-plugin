{
 "cells": [
  {
   "cell_type": "markdown",
   "metadata": {},
   "source": [
    "# Example of using QuOCS with Qudi"
   ]
  },
  {
   "cell_type": "markdown",
   "metadata": {},
   "source": [
    "We want to run an optimization on one of our test-problems provided in QuOCS. TO demonstrate some of the advantages of QuOCS in experiment optimization, we add noise to the figure of merit (FoM) and make use of the re-evaluation steps functionality (see below). But let's go through the setup of the optimization step-py-step.\n",
    "\n",
    "## Import statements\n",
    "\n",
    "We need to import the QuOCS Optimizer and the test-problem (OneQubitProblem). Let's also include numpy for good measure becuase we might need it later."
   ]
  },
  {
   "cell_type": "code",
   "execution_count": 2,
   "metadata": {},
   "outputs": [],
   "source": [
    "from quocslib.Optimizer import Optimizer\n",
    "# from quocslib.optimalcontrolproblems.OneQubitProblem_2fields import OneQubit2Fields\n",
    "from quocslib.optimalcontrolproblems.OneQubitProblem import OneQubit\n",
    "import numpy as np"
   ]
  },
  {
   "cell_type": "markdown",
   "metadata": {},
   "source": [
    "## The Configuration of QuOCS\n",
    "\n",
    "To configure QuOCS, you need to fill the ```optimization_dictionary``` with information. In this example, we will do it directly in the code, but you can also load the dictionary from a JSON file.\n",
    "\n",
    "Let's define the name of the optimization. This will also show up in the name of the folder containing the results."
   ]
  },
  {
   "cell_type": "code",
   "execution_count": 3,
   "metadata": {},
   "outputs": [],
   "source": [
    "optimization_client_name = \"dCRAB_Noisy_2_control_fields\"\n",
    "\n",
    "optimization_dictionary = {\"optimization_client_name\": optimization_client_name}"
   ]
  },
  {
   "cell_type": "markdown",
   "metadata": {},
   "source": [
    "Now we need to specify the general settings, such as the used algorithm (in this case dCRAB) and its parameters (e.g. number of super-iterations). In the same section we choos to use the re-evaluation steps method for noisy optimization. Extending the dCRAB algorithm, the direct dearch method (dsm) needs to be specified and stopping criteria for each sub-iteration can be defined."
   ]
  },
  {
   "cell_type": "code",
   "execution_count": 4,
   "metadata": {},
   "outputs": [],
   "source": [
    "optimization_dictionary[\"algorithm_settings\"] = {\n",
    "        \"algorithm_name\": \"dCRAB\",\n",
    "        \"super_iteration_number\": 5,\n",
    "        \"max_eval_total\": 5000,\n",
    "        \"re_evaluation\": {\n",
    "            \"re_evaluation_steps\": [0.3, 0.5, 0.51]\n",
    "        },\n",
    "        \"dsm_settings\": {\n",
    "            \"general_settings\": {\n",
    "                \"dsm_algorithm_name\": \"NelderMead\",\n",
    "                \"is_adaptive\": true\n",
    "            },\n",
    "            \"stopping_criteria\": {\n",
    "                \"xatol\": 1e-2,\n",
    "                \"frtol\": 1e-2,\n",
    "                \"max_eval\": 200\n",
    "            }\n",
    "        }\n",
    "    }"
   ]
  },
  {
   "cell_type": "markdown",
   "metadata": {},
   "source": [
    "### Times\n",
    "\n",
    "The time of a pulse is specified separately to use it as an optimization parameter in future updates and so that different pulses can act on separate timescales but can be grouped by common durations. Since there can me more than one time, the entries have to be provided as a list (note the square brackets around the dictionary for ```time_1```):"
   ]
  },
  {
   "cell_type": "code",
   "execution_count": 5,
   "metadata": {},
   "outputs": [],
   "source": [
    "optimization_dictionary[\"times\"] = [{\n",
    "        \"time_name\": \"time_1\",\n",
    "        \"initial_value\": 3.0\n",
    "    }]"
   ]
  },
  {
   "cell_type": "markdown",
   "metadata": {},
   "source": [
    "### Parameters\n",
    "\n",
    "Since we do not have any parameters in this example, we just add an empty list for the settings of parameter optimization."
   ]
  },
  {
   "cell_type": "code",
   "execution_count": 6,
   "metadata": {},
   "outputs": [],
   "source": [
    "optimization_dictionary['parameters'] = []"
   ]
  },
  {
   "cell_type": "markdown",
   "metadata": {},
   "source": [
    "### Pulses"
   ]
  },
  {
   "cell_type": "code",
   "execution_count": 10,
   "metadata": {},
   "outputs": [],
   "source": [
    "pulse_amplitude = {'pulse_name': 'Amplitude', \n",
    "                   'upper_limit': 15.0, \n",
    "                   'lower_limit': 0.1, \n",
    "                   'bins_number': 101, \n",
    "                   'time_name': 'time_p', \n",
    "                   'amplitude_variation': 0.5, \n",
    "                   'basis': {'basis_name': 'Fourier', \n",
    "                             'basis_class': 'Fourier', \n",
    "                             'basis_module': 'quocslib.pulses.basis.Fourier', \n",
    "                             'basis_vector_number': 5, \n",
    "                             'random_super_parameter_distribution': \n",
    "                             {'distribution_name': 'Uniform', 'distribution_class': 'Uniform', \n",
    "                                   'distribution_module': 'quocslib.pulses.superparameter.Uniform', \n",
    "                                   'lower_limit': 0.1, 'upper_limit': 3.0}\n",
    "                            }, \n",
    "                   'scaling_function': {'function_type': 'lambda_function', 'lambda_function': 'lambda t: 1.0 + 0.0*t'}, \n",
    "                   'initial_guess': {'function_type': 'lambda_function', 'lambda_function': 'lambda t: np.pi/3 + 0.0*t'}\n",
    "                  }"
   ]
  },
  {
   "cell_type": "code",
   "execution_count": 11,
   "metadata": {},
   "outputs": [],
   "source": [
    "pulse_phase = {'pulse_name': 'Phase', \n",
    "               'upper_limit': 3.14, \n",
    "               'lower_limit': -3.14, \n",
    "               'bins_number': 101, \n",
    "               'time_name': 'time_p', \n",
    "               'amplitude_variation': 0.5, \n",
    "               'basis': {'basis_name': 'Fourier', \n",
    "                         'basis_class': 'Fourier', \n",
    "                         'basis_module': 'quocslib.pulses.basis.Fourier', \n",
    "                         'basis_vector_number': 5, \n",
    "                         'random_super_parameter_distribution': \n",
    "                         {'distribution_name': 'Uniform', 'distribution_class': 'Uniform', \n",
    "                          'distribution_module': 'quocslib.pulses.superparameter.Uniform', \n",
    "                          'lower_limit': 0.1, 'upper_limit': 3.0}}, \n",
    "               'scaling_function': {'function_type': 'lambda_function', 'lambda_function': 'lambda t: 1.0 + 0.0*t'}, \n",
    "               'initial_guess': {'function_type': 'lambda_function', 'lambda_function': 'lambda t: 0.0*t'}\n",
    "              }"
   ]
  },
  {
   "cell_type": "code",
   "execution_count": 12,
   "metadata": {},
   "outputs": [],
   "source": [
    "optimization_dictionary['pulses'] = [pulse_amplitude, pulse_phase]"
   ]
  },
  {
   "cell_type": "markdown",
   "metadata": {},
   "source": [
    "### Put all together and get ready to start the optimization with Qudi-QuOCS"
   ]
  },
  {
   "cell_type": "code",
   "execution_count": 13,
   "metadata": {},
   "outputs": [],
   "source": [
    "opti_comm_dict = {\"optimization_dictionary\": optimization_dictionary}"
   ]
  },
  {
   "cell_type": "markdown",
   "metadata": {},
   "source": [
    "Load the optimization algorithm into the optimization logic and display it into the GUI"
   ]
  },
  {
   "cell_type": "code",
   "execution_count": 14,
   "metadata": {},
   "outputs": [],
   "source": [
    "optimizationlogic.load_opti_comm_dict(opti_comm_dict)"
   ]
  },
  {
   "cell_type": "markdown",
   "metadata": {},
   "source": [
    "#### Important: If the GUI is not showing the optimization dictionary, restart the Kernel"
   ]
  },
  {
   "cell_type": "markdown",
   "metadata": {},
   "source": [
    "Print the optimization dictionary also here"
   ]
  },
  {
   "cell_type": "markdown",
   "metadata": {},
   "source": [
    "**CHANGE** : We have to provide the standard deviation to the dCRAB algorithm. \n",
    "\n",
    "To do so we use the function:\n",
    "\n",
    "``` fomlogic.update_fom(fom, std, status_code=0)```\n",
    "\n",
    "after the measurement. **std** stays for the experimental standard deviation."
   ]
  },
  {
   "cell_type": "code",
   "execution_count": 16,
   "metadata": {},
   "outputs": [
    {
     "name": "stdout",
     "output_type": "stream",
     "text": [
      "Is noise? : True\n",
      "FoM: 0.18560703087418995, status_code: 0\n",
      "FoM: 0.198837012729543, status_code: 0\n",
      "FoM: 0.013280362532424768, status_code: 0\n",
      "FoM: 0.05962755868502375, status_code: 0\n",
      "FoM: 0.04053639731494435, status_code: 0\n",
      "FoM: 0.02283593636622111, status_code: 0\n",
      "FoM: 0.09640406588467475, status_code: 0\n",
      "FoM: 0.19672320312872627, status_code: 0\n",
      "FoM: 0.33668560296872757, status_code: 0\n",
      "FoM: 0.02941567335584987, status_code: 0\n",
      "FoM: 0.06683340714509145, status_code: 0\n",
      "FoM: 0.3797351459300421, status_code: 0\n",
      "FoM: 0.13160930855996175, status_code: 0\n",
      "FoM: 0.15136242360914784, status_code: 0\n",
      "FoM: 0.29896288688178735, status_code: 0\n",
      "FoM: 0.14204822634564654, status_code: 0\n",
      "FoM: 0.3090784977364705, status_code: 0\n",
      "FoM: 0.13056904241521758, status_code: 0\n",
      "FoM: 0.5181745595406889, status_code: 0\n",
      "FoM: 0.278601314021155, status_code: 0\n",
      "FoM: 0.5805296939561075, status_code: 0\n",
      "FoM: 0.4002889635572872, status_code: 0\n",
      "FoM: 0.1449660516035291, status_code: 0\n",
      "FoM: 0.4488201397415466, status_code: 0\n",
      "FoM: 0.262640342173537, status_code: 0\n",
      "FoM: 0.49867480721760965, status_code: 0\n",
      "FoM: 0.251237398542469, status_code: 0\n",
      "FoM: 0.26727080631241046, status_code: 0\n",
      "FoM: 0.1208239353340266, status_code: 0\n",
      "FoM: 0.10594688306555837, status_code: 0\n",
      "FoM: 0.2600226593154999, status_code: 0\n",
      "FoM: 0.009518729006269145, status_code: 0\n",
      "FoM: 0.033932567624744926, status_code: 0\n",
      "FoM: 0.03666424114837204, status_code: 0\n",
      "FoM: 0.0030947807667103585, status_code: 0\n",
      "FoM: 0.11974045110386539, status_code: 0\n",
      "FoM: 0.0018621118582893502, status_code: 0\n",
      "FoM: 0.040186973706830824, status_code: 0\n",
      "FoM: 0.029243932600433266, status_code: 0\n",
      "FoM: 0.011392197173069973, status_code: 0\n",
      "FoM: 0.002122325556863513, status_code: 0\n",
      "FoM: 0.042013751391350794, status_code: 0\n",
      "FoM: 0.010258844295775196, status_code: 0\n",
      "FoM: 0.1595848580744034, status_code: 0\n",
      "FoM: 0.009897752520056136, status_code: 0\n",
      "FoM: 0.0062350213185500825, status_code: 0\n",
      "FoM: 0.03881895265058032, status_code: 0\n",
      "FoM: 0.00849185958493675, status_code: 0\n",
      "FoM: 0.042070828034737294, status_code: 0\n",
      "FoM: 0.30788460491407565, status_code: 0\n",
      "FoM: 0.04683150792491711, status_code: 0\n",
      "FoM: 0.07849729466562329, status_code: 0\n",
      "FoM: 0.15453602771598438, status_code: 0\n",
      "FoM: 0.02866825588168639, status_code: 0\n",
      "FoM: 0.036955348854753184, status_code: 0\n",
      "FoM: 0.22579733720677164, status_code: 0\n",
      "FoM: 0.0977072188550958, status_code: 0\n",
      "FoM: 0.030337368878666403, status_code: 0\n",
      "FoM: 0.10385103123929482, status_code: 0\n",
      "FoM: 0.012428049676549466, status_code: 0\n",
      "FoM: 0.05388698138209208, status_code: 0\n",
      "FoM: 0.0536114688052978, status_code: 0\n",
      "FoM: 0.060134365785652365, status_code: 0\n",
      "FoM: 0.058506817615136965, status_code: 0\n",
      "FoM: 0.09257820988632483, status_code: 0\n",
      "FoM: 0.0367110830536075, status_code: 0\n",
      "FoM: 0.0433852320777824, status_code: 0\n",
      "FoM: 0.06569353186749198, status_code: 0\n",
      "FoM: 0.12245862730727326, status_code: 0\n",
      "FoM: 0.06391343057307955, status_code: 0\n",
      "FoM: 0.18689987929585344, status_code: 0\n",
      "FoM: 0.051147940228142987, status_code: 0\n",
      "FoM: 0.023602376360268528, status_code: 0\n",
      "FoM: 0.034265359431998765, status_code: 0\n",
      "FoM: 0.029243942098599707, status_code: 0\n",
      "FoM: 0.04622239513773378, status_code: 0\n",
      "FoM: 0.07490193367611972, status_code: 0\n",
      "FoM: 0.03001439098513966, status_code: 0\n",
      "FoM: 0.12095115797717099, status_code: 0\n",
      "FoM: 0.045046071140936034, status_code: 0\n",
      "FoM: 0.08503935717588113, status_code: 0\n",
      "FoM: 0.0361348432287284, status_code: 0\n",
      "FoM: 0.0721006115450101, status_code: 0\n",
      "FoM: 0.027413171803704207, status_code: 0\n",
      "FoM: 0.013093066090246797, status_code: 0\n",
      "FoM: 0.07927104720719977, status_code: 0\n",
      "FoM: 0.018674685470878666, status_code: 0\n",
      "FoM: 0.000590215690730013, status_code: 0\n",
      "FoM: 0.043023712344912646, status_code: 0\n",
      "FoM: 0.09421386107933659, status_code: 0\n",
      "FoM: 0.0045095062861509, status_code: 0\n",
      "FoM: 0.026834375103458555, status_code: 0\n",
      "FoM: 0.025283449433944904, status_code: 0\n",
      "FoM: 0.10845004916247936, status_code: 0\n",
      "FoM: 0.006190748494466913, status_code: 0\n",
      "FoM: 0.02904448307407883, status_code: 0\n",
      "FoM: 0.0425763630268626, status_code: 0\n",
      "FoM: 0.004902710512439602, status_code: 0\n",
      "FoM: 0.0664959436529386, status_code: 0\n",
      "FoM: 0.008367505766217219, status_code: 0\n",
      "FoM: 0.07833985236785693, status_code: 0\n",
      "FoM: 0.02850650978651932, status_code: 0\n",
      "FoM: 0.04433794355848957, status_code: 0\n",
      "FoM: 0.03279155162462038, status_code: 0\n",
      "FoM: 0.045973878440218906, status_code: 0\n",
      "FoM: 0.18150811255727933, status_code: 0\n",
      "FoM: 0.025098361186096887, status_code: 0\n",
      "FoM: 0.008848359174576858, status_code: 0\n",
      "FoM: 0.013877453554331431, status_code: 0\n",
      "FoM: 0.03214671805065618, status_code: 0\n",
      "FoM: 0.03682278930292674, status_code: 0\n",
      "FoM: 0.018761044099244138, status_code: 0\n",
      "FoM: 0.0034707357181086723, status_code: 0\n",
      "FoM: 0.05397082842470977, status_code: 0\n",
      "FoM: 0.010725415703848676, status_code: 0\n",
      "FoM: 0.04118697316717943, status_code: 0\n",
      "FoM: 0.021108268569804512, status_code: 0\n",
      "FoM: 0.03211912783364913, status_code: 0\n",
      "FoM: 0.039792690777690785, status_code: 0\n",
      "FoM: 0.029988645102200295, status_code: 0\n",
      "FoM: 0.032788832499467194, status_code: 0\n",
      "Too much time... Exit!\n",
      "Stopping the measurement!\n",
      "Optimization finished\n"
     ]
    }
   ],
   "source": [
    "######################################################################################################\n",
    "# Parameters and Settings\n",
    "######################################################################################################\n",
    "\n",
    "# This section is devoted to the initialization in the pulsed logic and optimization logic of the main\n",
    "# settings and parameters to be usde in the creation ofthe pulse sequence and the optimization\n",
    "# Iteration, controls and figure of merit to compare with QuOCS\n",
    "# Just an example for debug\n",
    "args_dict = {\"is_noisy\": True}\n",
    "qubit = OneQubit2Fields(args_dict)\n",
    "\n",
    "######################################################################################################\n",
    "# Measurement\n",
    "######################################################################################################\n",
    "optimalcontrol.start_optimization()\n",
    "\n",
    "# Just a time to check for latent time\n",
    "last_time_fom = time.time()\n",
    "# repeat the whole process until its manually stopped or QuOCS finsihed the optimization\n",
    "# Wait few seconds before starting to get and return data\n",
    "while not optimizationlogic.handle_exit_obj.is_user_running:\n",
    "    time.sleep(0.1)\n",
    "    if (time.time() - last_time_fom) > 30:\n",
    "        print(\"Problem at the beginning! Surpassed the 30 secs\")\n",
    "        break\n",
    "\n",
    "# print(\"Check before the loop starts: {0}\".format(optimizationlogic.handle_exit_obj.is_user_running))\n",
    "while  optimizationlogic.handle_exit_obj.is_user_running == True:\n",
    "    # wait until QuOCS optimizes the controls\n",
    "    # print(\"Wait until the controls logic gives the controls\")\n",
    "    while not controlslogic.are_pulses_calculated:\n",
    "        time.sleep(0.1)\n",
    "        # If the waiting time exceed 10 seconds left stop the optimization\n",
    "        if time.time() - last_time_fom > 20:\n",
    "            print(\"Too much time... Exit!\")\n",
    "            optimizationlogic.handle_exit_obj.is_user_running = False\n",
    "            break\n",
    "            \n",
    "\n",
    "    #######################################################################################################\n",
    "    # Get the Controls\n",
    "    #######################################################################################################\n",
    "    # Change the status of control calculations to avoid to evaluate the fom twice with the same controls\n",
    "    controlslogic.are_pulses_calculated = False\n",
    "    # Get the controls from the controls logic\n",
    "    pulses, parameters, timegrids = controlslogic.pulses, controlslogic.parameters, controlslogic.timegrids\n",
    "    #######################################################################################################\n",
    "    # Perform the measurement\n",
    "    #######################################################################################################\n",
    "    #\n",
    "    #\n",
    "    #######################################################################################################\n",
    "    # Calculate the figure of merit and the standard deviation\n",
    "    #######################################################################################################\n",
    "    # calculate the Figure of Merit\n",
    "    fom_dict = qubit.get_FoM(pulses, timegrids, parameters)\n",
    "    # Extract the fom and std\n",
    "    fom, std = fom_dict[\"FoM\"], fom_dict[\"std\"]\n",
    "    #######################################################################################################\n",
    "    # Return the figure of merit\n",
    "    #######################################################################################################\n",
    "    # Update the figure of merit and the standard deviation to the fom logic\n",
    "    fomlogic.update_fom(fom, std, status_code=0)\n",
    "    # update the last time the fom is calculated\n",
    "    last_time_fom = time.time()\n",
    "    #######################################################################################################\n",
    "    # Optional part\n",
    "    #######################################################################################################\n",
    "    # Print the data just for debug purpose\n",
    "    print(\"FoM: {fom}, Std: {std}, status_code: {status_code}\".format(fom=fom, std=std, status_code=0))\n",
    "print(\"Optimization finished\")"
   ]
  },
  {
   "cell_type": "code",
   "execution_count": null,
   "metadata": {},
   "outputs": [],
   "source": [
    "# Access to the optimizer object to get info about the optimization\n",
    "optimizer_obj = optimizationlogic.optimizer_obj"
   ]
  },
  {
   "cell_type": "code",
   "execution_count": null,
   "metadata": {},
   "outputs": [],
   "source": [
    "optimizer_obj"
   ]
  },
  {
   "cell_type": "code",
   "execution_count": null,
   "metadata": {},
   "outputs": [],
   "source": [
    "# Best fom with std\n",
    "print(\"FoM: {fom} +- {std}\".format(fom=optimizer_obj.best_fom, std=optimizer_obj.std) "
   ]
  },
  {
   "cell_type": "code",
   "execution_count": null,
   "metadata": {},
   "outputs": [],
   "source": [
    "# Best controls\n",
    "pulses_list, time_grids_list, parameters_list = optimizer_obj.get_best_controls()\n",
    "t_amplitude = time_grids_list[0]\n",
    "amplitude = pulses_list[0]\n",
    "t_phase = time_grids_list[1]\n",
    "phase = pulses_list[1]"
   ]
  }
 ],
 "metadata": {
  "kernelspec": {
   "display_name": "Qudi",
   "language": "python",
   "name": "qudi"
  },
  "language_info": {
   "codemirror_mode": {
    "name": "ipython",
    "version": "3.6.5"
   },
   "file_extension": ".py",
   "mimetype": "text/x-python",
   "name": "python",
   "nbconvert_exporter": "python",
   "pygments_lexer": "ipython3",
   "version": "3.6.5"
  }
 },
 "nbformat": 4,
 "nbformat_minor": 5
}
