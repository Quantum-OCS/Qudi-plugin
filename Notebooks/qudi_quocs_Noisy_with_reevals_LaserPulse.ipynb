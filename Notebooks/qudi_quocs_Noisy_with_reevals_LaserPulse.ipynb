{
 "cells": [
  {
   "cell_type": "code",
   "execution_count": 1,
   "metadata": {
    "scrolled": true
   },
   "outputs": [],
   "source": [
    "from quocslib.optimalcontrolproblems.OneQubitProblem_2fields import OneQubit2Fields\n",
    "import time"
   ]
  },
  {
   "cell_type": "markdown",
   "metadata": {},
   "source": [
    "Install the qudikernel: python qudikernel.py install"
   ]
  },
  {
   "cell_type": "markdown",
   "metadata": {},
   "source": [
    "# QuOCS and Qudi with Noise"
   ]
  },
  {
   "cell_type": "markdown",
   "metadata": {},
   "source": [
    "## **What to do before**"
   ]
  },
  {
   "cell_type": "markdown",
   "metadata": {},
   "source": [
    "* Update the QuOCS library\n",
    "* Substitute the logic files in Qudi"
   ]
  },
  {
   "cell_type": "markdown",
   "metadata": {},
   "source": [
    "To handle the noise in the physical system with QuOCS, we will use the **DCRABNoisyAlgorithm** class.\n",
    "In particular, we will use the compensation drift functionality to reset the figure of merit at the beginning of every Super iteration to take into account any new drift term coming from the external noise sources.\n",
    "Furthermore, a re-evaluation step method is added from the second iteration for every super-iteration. Indeed the measure is repeated n + 1 times, where n is the length of the probabilities list."
   ]
  },
  {
   "cell_type": "markdown",
   "metadata": {},
   "source": [
    "The changes to be made are in the algorithm settings and in the evaluation loop (See below). Both changes are marked in bold."
   ]
  },
  {
   "cell_type": "markdown",
   "metadata": {},
   "source": [
    "### Creation of the optimization dictionary"
   ]
  },
  {
   "cell_type": "markdown",
   "metadata": {},
   "source": [
    "The optimization dictionary contains all the settings compulsory for the optimization algorithm in order to run a proper optimization. "
   ]
  },
  {
   "cell_type": "code",
   "execution_count": 17,
   "metadata": {},
   "outputs": [],
   "source": [
    "optimization_client_name = \"test_dCRAB_Noisy_2_control_fields\""
   ]
  },
  {
   "cell_type": "markdown",
   "metadata": {},
   "source": [
    "**CHANGE** :Now we will use the **dCRAB Noisy algorithm** which ensures **drift compensation** and handles **fluctuations** "
   ]
  },
  {
   "cell_type": "code",
   "execution_count": 18,
   "metadata": {},
   "outputs": [],
   "source": [
    "optimization_dictionary = {\"optimization_client_name\": optimization_client_name,\n",
    "                           'opti_algorithm_module': 'quocslib.optimalalgorithms.dCRABNoisyAlgorithm', \n",
    "                           'opti_algorithm_class': 'DCrabNoisyAlgorithm', \n",
    "                          }"
   ]
  },
  {
   "cell_type": "markdown",
   "metadata": {},
   "source": [
    "Number of iteration and super-iterations"
   ]
  },
  {
   "cell_type": "code",
   "execution_count": 19,
   "metadata": {},
   "outputs": [],
   "source": [
    "# Total number of dCRAB superiteration\n",
    "super_iteration_number = 5\n",
    "# Maximum number of iteration per super-iteration\n",
    "maximum_function_evaluations_number = 200"
   ]
  },
  {
   "cell_type": "markdown",
   "metadata": {},
   "source": [
    "To activate only the drift compensation add "
   ]
  },
  {
   "cell_type": "code",
   "execution_count": 20,
   "metadata": {},
   "outputs": [],
   "source": [
    "optimization_dictionary['algorithm_settings'] = { 'super_iteration_number': super_iteration_number, \n",
    "                                                 'maximum_function_evaluations_number': maximum_function_evaluations_number,\n",
    "                                                \"is_compensated_drift\": True,\n",
    "                                                \"random_number_generator\": {\n",
    "                                                      \"seed_number\": 2022\n",
    "                                                    }\n",
    "                                                }\n"
   ]
  },
  {
   "cell_type": "markdown",
   "metadata": {},
   "source": [
    "#### Add re - evaluation steps"
   ]
  },
  {
   "cell_type": "code",
   "execution_count": null,
   "metadata": {},
   "outputs": [],
   "source": [
    "optimization_dictionary[\"algorithm_settings\"][\"re_evaluation\"] = {\n",
    "      \"re_evaluation_steps\": [\n",
    "        0.3,\n",
    "        0.5,\n",
    "        0.51\n",
    "      ]}"
   ]
  },
  {
   "cell_type": "markdown",
   "metadata": {},
   "source": [
    "Settings for the inner algorithm used by dCRAB"
   ]
  },
  {
   "cell_type": "code",
   "execution_count": 21,
   "metadata": {},
   "outputs": [],
   "source": [
    "optimization_dictionary[\"dsm_settings\"] = {'general_settings': {'dsm_name': 'nelder_mead', 'is_adaptive': False}, \n",
    "                                    'stopping_criteria': {'iterations_number': 100, 'xatol': 1e-10, 'frtol': 1e-10}}"
   ]
  },
  {
   "cell_type": "markdown",
   "metadata": {},
   "source": [
    "### Times"
   ]
  },
  {
   "cell_type": "markdown",
   "metadata": {},
   "source": [
    "We can define here how many times we need to use in the optimization"
   ]
  },
  {
   "cell_type": "code",
   "execution_count": 22,
   "metadata": {},
   "outputs": [],
   "source": [
    "time_p = {'time_name': 'time_p', 'initial_value': 3.0}"
   ]
  },
  {
   "cell_type": "code",
   "execution_count": 23,
   "metadata": {},
   "outputs": [],
   "source": [
    "optimization_dictionary[\"times\"] = [time_p]"
   ]
  },
  {
   "cell_type": "markdown",
   "metadata": {},
   "source": [
    "### Parameters"
   ]
  },
  {
   "cell_type": "markdown",
   "metadata": {},
   "source": [
    "We can add a parameter to be optimized like the laser power"
   ]
  },
  {
   "cell_type": "code",
   "execution_count": null,
   "metadata": {},
   "outputs": [],
   "source": [
    "laser_length = {\n",
    "                \"parameter_name\": \"Laser Length\",\n",
    "                \"lower_limit\": 0.0,\n",
    "                \"upper_limit\": 10.0,\n",
    "                \"initial_value\": 2.0,\n",
    "                \"amplitude_variation\": 0.5\n",
    "            }"
   ]
  },
  {
   "cell_type": "code",
   "execution_count": 24,
   "metadata": {},
   "outputs": [],
   "source": [
    "optimization_dictionary['parameters'] = [laser_length]"
   ]
  },
  {
   "cell_type": "markdown",
   "metadata": {},
   "source": [
    "### Pulses"
   ]
  },
  {
   "cell_type": "code",
   "execution_count": 25,
   "metadata": {},
   "outputs": [],
   "source": [
    "pulse_amplitude = {'pulse_name': 'Amplitude', \n",
    "                   'upper_limit': 15.0, \n",
    "                   'lower_limit': 0.1, \n",
    "                   'bins_number': 101, \n",
    "                   'time_name': 'time_p', \n",
    "                   'amplitude_variation': 0.5, \n",
    "                   'basis': {'basis_name': 'Fourier', \n",
    "                             'basis_class': 'Fourier', \n",
    "                             'basis_module': 'quocslib.pulses.basis.Fourier', \n",
    "                             'basis_vector_number': 5, \n",
    "                             'random_super_parameter_distribution': \n",
    "                             {'distribution_name': 'Uniform', 'distribution_class': 'Uniform', \n",
    "                                   'distribution_module': 'quocslib.pulses.superparameter.Uniform', \n",
    "                                   'lower_limit': 0.1, 'upper_limit': 3.0}\n",
    "                            }, \n",
    "                   'scaling_function': {'function_type': 'lambda_function', 'lambda_function': 'lambda t: 1.0 + 0.0*t'}, \n",
    "                   'initial_guess': {'function_type': 'lambda_function', 'lambda_function': 'lambda t: np.pi/3 + 0.0*t'}\n",
    "                  }"
   ]
  },
  {
   "cell_type": "code",
   "execution_count": 26,
   "metadata": {},
   "outputs": [],
   "source": [
    "pulse_phase = {'pulse_name': 'Phase', \n",
    "               'upper_limit': 3.14, \n",
    "               'lower_limit': -3.14, \n",
    "               'bins_number': 101, \n",
    "               'time_name': 'time_p', \n",
    "               'amplitude_variation': 0.5, \n",
    "               'basis': {'basis_name': 'Fourier', \n",
    "                         'basis_class': 'Fourier', \n",
    "                         'basis_module': 'quocslib.pulses.basis.Fourier', \n",
    "                         'basis_vector_number': 5, \n",
    "                         'random_super_parameter_distribution': \n",
    "                         {'distribution_name': 'Uniform', 'distribution_class': 'Uniform', \n",
    "                          'distribution_module': 'quocslib.pulses.superparameter.Uniform', \n",
    "                          'lower_limit': 0.1, 'upper_limit': 3.0}}, \n",
    "               'scaling_function': {'function_type': 'lambda_function', 'lambda_function': 'lambda t: 1.0 + 0.0*t'}, \n",
    "               'initial_guess': {'function_type': 'lambda_function', 'lambda_function': 'lambda t: 0.0*t'}\n",
    "              }"
   ]
  },
  {
   "cell_type": "code",
   "execution_count": 27,
   "metadata": {},
   "outputs": [],
   "source": [
    "optimization_dictionary['pulses'] = [pulse_amplitude, pulse_phase]"
   ]
  },
  {
   "cell_type": "markdown",
   "metadata": {},
   "source": [
    "### Put all together and get ready to start the optimization with Qudi-QuOCS"
   ]
  },
  {
   "cell_type": "code",
   "execution_count": 28,
   "metadata": {},
   "outputs": [],
   "source": [
    "opti_comm_dict = {\"optimization_dictionary\": optimization_dictionary}"
   ]
  },
  {
   "cell_type": "markdown",
   "metadata": {},
   "source": [
    "Load the optimization algorithm into the optimization logic and display it into the GUI"
   ]
  },
  {
   "cell_type": "code",
   "execution_count": 29,
   "metadata": {},
   "outputs": [],
   "source": [
    "optimizationlogic.load_opti_comm_dict(opti_comm_dict)"
   ]
  },
  {
   "cell_type": "markdown",
   "metadata": {},
   "source": [
    "#### Important: If the GUI is not showing the optimization dictionary, restart the Kernel"
   ]
  },
  {
   "cell_type": "markdown",
   "metadata": {},
   "source": [
    "Print the optimization dictionary also here"
   ]
  },
  {
   "cell_type": "code",
   "execution_count": 30,
   "metadata": {
    "scrolled": true
   },
   "outputs": [
    {
     "data": {
      "text/plain": [
       "{'optimization_dictionary': {'optimization_client_name': 'test_dCRAB_Noisy_2_control_fields', 'opti_algorithm_module': 'quocslib.optimalalgorithms.dCRABNoisyAlgorithm', 'opti_algorithm_class': 'DCrabNoisyAlgorithm', 'algorithm_settings': {'super_iteration_number': 5, 'maximum_function_evaluations_number': 200, 'is_compensated_drift': True, 'random_number_generator': {'seed_number': 2022}}, 'dsm_settings': {'general_settings': {'dsm_name': 'nelder_mead', 'is_adaptive': False}, 'stopping_criteria': {'iterations_number': 100, 'xatol': 1e-10, 'frtol': 1e-10}}, 'times': [{'time_name': 'time_p', 'initial_value': 3.0}], 'parameters': [], 'pulses': [{'pulse_name': 'Amplitude', 'upper_limit': 15.0, 'lower_limit': 0.1, 'bins_number': 101, 'time_name': 'time_p', 'amplitude_variation': 0.5, 'basis': {'basis_name': 'Fourier', 'basis_class': 'Fourier', 'basis_module': 'quocslib.pulses.basis.Fourier', 'basis_vector_number': 5, 'random_super_parameter_distribution': {'distribution_name': 'Uniform', 'distribution_class': 'Uniform', 'distribution_module': 'quocslib.pulses.superparameter.Uniform', 'lower_limit': 0.1, 'upper_limit': 3.0}}, 'scaling_function': {'function_type': 'lambda_function', 'lambda_function': 'lambda t: 1.0 + 0.0*t'}, 'initial_guess': {'function_type': 'lambda_function', 'lambda_function': 'lambda t: np.pi/3 + 0.0*t'}}, {'pulse_name': 'Phase', 'upper_limit': 3.14, 'lower_limit': -3.14, 'bins_number': 101, 'time_name': 'time_p', 'amplitude_variation': 0.5, 'basis': {'basis_name': 'Fourier', 'basis_class': 'Fourier', 'basis_module': 'quocslib.pulses.basis.Fourier', 'basis_vector_number': 5, 'random_super_parameter_distribution': {'distribution_name': 'Uniform', 'distribution_class': 'Uniform', 'distribution_module': 'quocslib.pulses.superparameter.Uniform', 'lower_limit': 0.1, 'upper_limit': 3.0}}, 'scaling_function': {'function_type': 'lambda_function', 'lambda_function': 'lambda t: 1.0 + 0.0*t'}, 'initial_guess': {'function_type': 'lambda_function', 'lambda_function': 'lambda t: 0.0*t'}}]}}"
      ]
     },
     "execution_count": 30,
     "metadata": {},
     "output_type": "execute_result"
    }
   ],
   "source": [
    "optimalcontrol.opti_comm_dict"
   ]
  },
  {
   "cell_type": "markdown",
   "metadata": {},
   "source": [
    "**CHANGE** : We have to provide the standard deviation to the dCRAB algorithm. \n",
    "\n",
    "To do so we use the function:\n",
    "\n",
    "``` fomlogic.update_fom(fom, std, status_code=0)```\n",
    "\n",
    "after the measurement. **std** stays for the experimental standard deviation."
   ]
  },
  {
   "cell_type": "code",
   "execution_count": 32,
   "metadata": {},
   "outputs": [
    {
     "name": "stdout",
     "output_type": "stream",
     "text": [
      "FoM: 0.1167687170411273, Std: 0.002552883233474129, status_code: 0\n",
      "FoM: 0.18770188373114996, Std: 0.002878517325535458, status_code: 0\n",
      "FoM: 0.08158276571174382, Std: 0.002309002695785685, status_code: 0\n",
      "FoM: 0.02962534521328073, Std: 0.00018256322587748342, status_code: 0\n",
      "FoM: 0.022126607184092054, Std: 0.004310105011651098, status_code: 0\n",
      "FoM: 0.5567993130499465, Std: 0.007888104198147361, status_code: 0\n",
      "FoM: 0.1388231511560657, Std: 0.009705806936335116, status_code: 0\n",
      "FoM: 0.1374102575925139, Std: 0.003901247381219649, status_code: 0\n",
      "FoM: 0.038542285174791954, Std: 0.0006100468212905275, status_code: 0\n",
      "FoM: 0.18731605856126873, Std: 0.00840400033450153, status_code: 0\n",
      "FoM: 0.08283735725313066, Std: 0.006284861127273647, status_code: 0\n",
      "FoM: 0.0783629841407091, Std: 0.0034956210929416765, status_code: 0\n",
      "FoM: 0.32166015234317313, Std: 0.002156330977657003, status_code: 0\n",
      "FoM: 0.3228983685806405, Std: 0.004849464068182794, status_code: 0\n",
      "FoM: 0.18819540987831745, Std: 0.008318728802657329, status_code: 0\n",
      "FoM: 0.10808380157460643, Std: 0.004611134789118291, status_code: 0\n",
      "FoM: 0.34190885287547274, Std: 0.0002032193472892052, status_code: 0\n",
      "FoM: 0.620150626001145, Std: 0.008832721665720458, status_code: 0\n",
      "FoM: 0.40322517220859383, Std: 0.007526337791661953, status_code: 0\n",
      "FoM: 0.5752680249469568, Std: 0.007283963993887768, status_code: 0\n",
      "FoM: 0.4646023256570072, Std: 0.007334175168977275, status_code: 0\n",
      "FoM: 0.4532158430178223, Std: 0.007384134245935281, status_code: 0\n",
      "FoM: 0.38982975056607644, Std: 0.004291532874989497, status_code: 0\n",
      "FoM: 0.08418609130658028, Std: 0.00743244825729932, status_code: 0\n",
      "FoM: 0.012310995114054368, Std: 0.0010575720374841968, status_code: 0\n",
      "FoM: 0.03316502012104675, Std: 0.009857429788239077, status_code: 0\n",
      "FoM: 0.0457123277100722, Std: 0.009953164786927704, status_code: 0\n",
      "FoM: 0.04772961893347487, Std: 0.009910844270349977, status_code: 0\n",
      "FoM: 0.5141550801618203, Std: 0.005628643688997727, status_code: 0\n",
      "FoM: 0.19336136237538926, Std: 0.007169583582629468, status_code: 0\n",
      "FoM: 0.05522476695990528, Std: 0.00625454019543628, status_code: 0\n",
      "FoM: 0.015291264309429252, Std: 0.005161548545070374, status_code: 0\n",
      "FoM: 0.0383957718224463, Std: 0.0009917725602938809, status_code: 0\n",
      "FoM: 0.12155890370688247, Std: 0.007422499417918226, status_code: 0\n",
      "FoM: 0.19523178433504773, Std: 0.002989795471757354, status_code: 0\n",
      "FoM: 0.06296454404771469, Std: 0.0017493955913015936, status_code: 0\n",
      "FoM: 0.18713213207407817, Std: 0.008425893758439837, status_code: 0\n",
      "FoM: 0.016815884174609542, Std: 0.008129510243620002, status_code: 0\n",
      "FoM: 0.04018985709737241, Std: 0.005511544567647643, status_code: 0\n",
      "FoM: 0.006201849522449588, Std: 3.630364796746499e-05, status_code: 0\n",
      "FoM: 0.13279918149194025, Std: 0.00688903322688969, status_code: 0\n",
      "FoM: 0.02261228483424014, Std: 0.006800106739767854, status_code: 0\n",
      "FoM: 0.05569847954215959, Std: 0.007503790255894755, status_code: 0\n",
      "FoM: 0.14162294858912075, Std: 0.0009631004652917608, status_code: 0\n",
      "FoM: 0.109232757466599, Std: 0.008938146189085287, status_code: 0\n",
      "FoM: 0.05616384798354032, Std: 0.002194189667496406, status_code: 0\n",
      "FoM: 0.11666494824387927, Std: 0.008417435329434632, status_code: 0\n",
      "FoM: 0.036933868930925776, Std: 0.0033966330042729245, status_code: 0\n",
      "FoM: 0.08768751842327888, Std: 0.006008857319494968, status_code: 0\n",
      "FoM: 0.03954993279495311, Std: 0.0025374405848138082, status_code: 0\n",
      "FoM: 0.06076104006485592, Std: 0.0028319149001321863, status_code: 0\n",
      "FoM: 0.04802864117554448, Std: 0.008588230242228831, status_code: 0\n",
      "FoM: 0.005732479688507007, Std: 0.004292095756502685, status_code: 0\n",
      "FoM: 0.1683072403046274, Std: 0.00537876166231794, status_code: 0\n",
      "FoM: 0.05245014822474367, Std: 0.003155753401108966, status_code: 0\n",
      "FoM: 0.0269285245128263, Std: 0.005747151813291472, status_code: 0\n",
      "FoM: 0.017874876435067695, Std: 0.008172564813149201, status_code: 0\n",
      "FoM: 0.156207907283424, Std: 0.00012509946624349123, status_code: 0\n",
      "FoM: 0.021020411600661204, Std: 0.007875272158487904, status_code: 0\n",
      "FoM: 0.09311358947952408, Std: 0.0055320947081060655, status_code: 0\n",
      "FoM: 0.0072599519638781975, Std: 0.004243936084507322, status_code: 0\n",
      "FoM: 0.049062571020888075, Std: 0.006156243225070667, status_code: 0\n",
      "FoM: 0.031013056336233892, Std: 0.004771698184986691, status_code: 0\n",
      "FoM: 0.05537375106910569, Std: 0.0025132531931226177, status_code: 0\n",
      "FoM: 0.021675966577939264, Std: 0.00637044336936829, status_code: 0\n",
      "FoM: 0.17902102944602616, Std: 0.0023949273179781584, status_code: 0\n",
      "FoM: 0.02687262452765595, Std: 0.0010989508524365766, status_code: 0\n",
      "FoM: 0.059873377422011306, Std: 0.007215910639217356, status_code: 0\n",
      "FoM: 0.006115396668058815, Std: 0.004100773134752555, status_code: 0\n",
      "FoM: 0.14911421215331755, Std: 0.006571957449831665, status_code: 0\n",
      "FoM: 0.011967657013226676, Std: 0.0007447517019993033, status_code: 0\n",
      "FoM: 0.029719075012265374, Std: 0.004945352959758044, status_code: 0\n",
      "FoM: 0.037477549098516943, Std: 0.009576698679126304, status_code: 0\n",
      "FoM: 0.10371987374514148, Std: 0.008913057833759076, status_code: 0\n",
      "FoM: 0.029189540396551653, Std: 0.0077496771863857115, status_code: 0\n",
      "FoM: 0.035929394127767314, Std: 0.0035922326440730526, status_code: 0\n",
      "FoM: 0.024675647673638904, Std: 0.002726673665638932, status_code: 0\n",
      "FoM: 0.032963604513672085, Std: 0.0019887851871587757, status_code: 0\n",
      "FoM: 0.04403674443397668, Std: 0.003398466566689212, status_code: 0\n",
      "FoM: 0.009076414212872197, Std: 0.008920120352129008, status_code: 0\n",
      "FoM: 0.03470047101817262, Std: 0.0062218287243682195, status_code: 0\n",
      "FoM: 0.0006917321298643524, Std: 0.00046366799560984665, status_code: 0\n",
      "FoM: 0.03985951804686662, Std: 0.006173681193520672, status_code: 0\n",
      "FoM: 0.027968210319011713, Std: 0.00016880255269778767, status_code: 0\n",
      "FoM: 0.01883006130055468, Std: 0.006219751085580696, status_code: 0\n",
      "FoM: 0.037696025374154375, Std: 0.008597464188968219, status_code: 0\n",
      "FoM: 0.036810641569807415, Std: 0.007698283977405315, status_code: 0\n",
      "FoM: 0.05918520343285584, Std: 6.810754729120738e-06, status_code: 0\n",
      "FoM: 0.03979659367323804, Std: 0.003785784304394968, status_code: 0\n",
      "FoM: 0.09652825651735597, Std: 0.0069029786865078685, status_code: 0\n",
      "FoM: 0.02700144172528518, Std: 0.007595261687793904, status_code: 0\n",
      "Too much time... Exit!\n",
      "Stopping the measurement!\n",
      "Optimization finished\n"
     ]
    }
   ],
   "source": [
    "######################################################################################################\n",
    "# Parameters and Settings\n",
    "######################################################################################################\n",
    "\n",
    "# This section is devoted to the initialization in the pulsed logic and optimization logic of the main\n",
    "# settings and parameters to be usde in the creation ofthe pulse sequence and the optimization\n",
    "# Iteration, controls and figure of merit to compare with QuOCS\n",
    "# Just an example for debug\n",
    "args_dict = {\"is_noisy\": True}\n",
    "qubit = OneQubit2Fields(args_dict)\n",
    "\n",
    "######################################################################################################\n",
    "# Measurement\n",
    "######################################################################################################\n",
    "optimalcontrol.start_optimization()\n",
    "\n",
    "# Just a time to check for latent time\n",
    "last_time_fom = time.time()\n",
    "# repeat the whole process until its manually stopped or QuOCS finsihed the optimization\n",
    "# Wait few seconds before starting to get and return data\n",
    "while not optimizationlogic.handle_exit_obj.is_user_running:\n",
    "    time.sleep(0.1)\n",
    "    if (time.time() - last_time_fom) > 30:\n",
    "        print(\"Problem at the beginning! Surpassed the 30 secs\")\n",
    "        break\n",
    "\n",
    "# print(\"Check before the loop starts: {0}\".format(optimizationlogic.handle_exit_obj.is_user_running))\n",
    "while  optimizationlogic.handle_exit_obj.is_user_running == True:\n",
    "    # wait until QuOCS optimizes the controls\n",
    "    # print(\"Wait until the controls logic gives the controls\")\n",
    "    while not controlslogic.are_pulses_calculated:\n",
    "        time.sleep(0.1)\n",
    "        # If the waiting time exceed 10 seconds left stop the optimization\n",
    "        if time.time() - last_time_fom > 20:\n",
    "            print(\"Too much time... Exit!\")\n",
    "            optimizationlogic.handle_exit_obj.is_user_running = False\n",
    "            break\n",
    "            \n",
    "    # If time exceeded, exit from the while loop and give a very high fom to the optimization algorithm\n",
    "    # and status code -1, to interrupt the optimization smoothly\n",
    "    if optimizationlogic.handle_exit_obj.is_user_running == False:\n",
    "        print('Stopping the measurement!')\n",
    "        # Update the pulse with the maximum number\n",
    "        fomlogic.update_fom(10**10, status_code=-1)\n",
    "        break\n",
    "    #######################################################################################################\n",
    "    # Get the Controls\n",
    "    #######################################################################################################\n",
    "    # Change the status of control calculations to avoid to evaluate the fom twice with the same controls\n",
    "    controlslogic.are_pulses_calculated = False\n",
    "    # Get the controls from the controls logic\n",
    "    pulses, parameters, timegrids = controlslogic.pulses, controlslogic.parameters, controlslogic.timegrids\n",
    "    #######################################################################################################\n",
    "    # Perform the measurement\n",
    "    #######################################################################################################\n",
    "    #\n",
    "    #\n",
    "    #######################################################################################################\n",
    "    # Calculate the figure of merit and the standard deviation\n",
    "    #######################################################################################################\n",
    "    # calculate the Figure of Merit\n",
    "    fom_dict = qubit.get_FoM(pulses, timegrids, parameters)\n",
    "    # Extract the fom and std\n",
    "    fom, std = fom_dict[\"FoM\"], fom_dict[\"std\"]\n",
    "    #######################################################################################################\n",
    "    # Return the figure of merit\n",
    "    #######################################################################################################\n",
    "    # Update the figure of merit and the standard deviation to the fom logic\n",
    "    fomlogic.update_fom(fom, std, status_code=0)\n",
    "    # update the last time the fom is calculated\n",
    "    last_time_fom = time.time()\n",
    "    #######################################################################################################\n",
    "    # Optional part\n",
    "    #######################################################################################################\n",
    "    # Print the data just for debug purpose\n",
    "    print(\"FoM: {fom}, Std: {std}, status_code: {status_code}\".format(fom=fom, std=std, status_code=0))\n",
    "print(\"Optimization finished\")"
   ]
  },
  {
   "cell_type": "code",
   "execution_count": null,
   "metadata": {},
   "outputs": [],
   "source": [
    "# Access to the optimizer object to get info about the optimization\n",
    "optimizer_obj = optimizationlogic.optimizer_obj"
   ]
  },
  {
   "cell_type": "code",
   "execution_count": null,
   "metadata": {},
   "outputs": [],
   "source": [
    "optimizer_obj"
   ]
  },
  {
   "cell_type": "code",
   "execution_count": null,
   "metadata": {},
   "outputs": [],
   "source": [
    "# Best fom with std\n",
    "print(\"FoM: {fom} +- {std}\".format(fom=optimizer_obj.best_fom, std=optimizer_obj.std) "
   ]
  },
  {
   "cell_type": "code",
   "execution_count": null,
   "metadata": {},
   "outputs": [],
   "source": [
    "# Best controls\n",
    "pulses_list, time_grids_list, parameters_list = optimizer_obj.get_best_controls()\n",
    "t_amplitude = time_grids_list[0]\n",
    "amplitude = pulses_list[0]\n",
    "t_phase = time_grids_list[1]\n",
    "phase = pulses_list[1]"
   ]
  }
 ],
 "metadata": {
  "kernelspec": {
   "display_name": "Qudi",
   "language": "python",
   "name": "qudi"
  },
  "language_info": {
   "codemirror_mode": {
    "name": "ipython",
    "version": "3.6.5"
   },
   "file_extension": ".py",
   "mimetype": "text/x-python",
   "name": "python",
   "nbconvert_exporter": "python",
   "pygments_lexer": "ipython3",
   "version": "3.6.5"
  }
 },
 "nbformat": 4,
 "nbformat_minor": 5
}
