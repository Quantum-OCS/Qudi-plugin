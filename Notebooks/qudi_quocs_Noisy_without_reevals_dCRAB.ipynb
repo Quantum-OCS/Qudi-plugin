{
 "cells": [
  {
   "cell_type": "code",
   "execution_count": 21,
   "metadata": {
    "scrolled": true
   },
   "outputs": [],
   "source": [
    "from quocslib.optimalcontrolproblems.OneQubitProblem_2fields import OneQubit2Fields\n",
    "import time"
   ]
  },
  {
   "cell_type": "markdown",
   "metadata": {},
   "source": [
    "Install the qudikernel: python qudikernel.py install"
   ]
  },
  {
   "cell_type": "markdown",
   "metadata": {},
   "source": [
    "# QuOCS and Qudi with Noise"
   ]
  },
  {
   "cell_type": "markdown",
   "metadata": {},
   "source": [
    "## **What to do before**"
   ]
  },
  {
   "cell_type": "markdown",
   "metadata": {},
   "source": [
    "* Update the QuOCS library\n",
    "* Substitute the logic files in Qudi"
   ]
  },
  {
   "cell_type": "markdown",
   "metadata": {},
   "source": [
    "To handle the noise in the physical system with QuOCS, we will use the **DCRABAlgorithm** class, now updated with the noisy feature.\n",
    "In particular, we will use the compensation drift functionality to reset the figure of merit at the beginning of every Super iteration to take into account any new drift term coming from the external noise sources.\n",
    "Furthermore, a re-evaluation step method is added from the second iteration for every super-iteration. Indeed the measure is repeated n + 1 times, where n is the length of the probabilities list."
   ]
  },
  {
   "cell_type": "markdown",
   "metadata": {},
   "source": [
    "The changes to be made are in the algorithm settings and in the evaluation loop (See below). Both changes are marked in bold."
   ]
  },
  {
   "cell_type": "markdown",
   "metadata": {},
   "source": [
    "### Creation of the optimization dictionary"
   ]
  },
  {
   "cell_type": "markdown",
   "metadata": {},
   "source": [
    "The optimization dictionary contains all the settings compulsory for the optimization algorithm in order to run a proper optimization. "
   ]
  },
  {
   "cell_type": "code",
   "execution_count": 22,
   "metadata": {},
   "outputs": [],
   "source": [
    "optimization_dictionary = {}"
   ]
  },
  {
   "cell_type": "code",
   "execution_count": 23,
   "metadata": {},
   "outputs": [],
   "source": [
    "optimization_client_name = \"test_dCRAB_Noisy_2_control_fields\""
   ]
  },
  {
   "cell_type": "markdown",
   "metadata": {},
   "source": [
    "**CHANGE** :Now we will use the **dCRAB Noisy algorithm** which ensures **drift compensation** and handles **fluctuations** "
   ]
  },
  {
   "cell_type": "markdown",
   "metadata": {},
   "source": [
    "Number of iteration and super-iterations"
   ]
  },
  {
   "cell_type": "code",
   "execution_count": 24,
   "metadata": {},
   "outputs": [],
   "source": [
    "# Total number of dCRAB superiteration\n",
    "super_iteration_number = 1\n",
    "# Maximum number of iteration per super-iteration\n",
    "maximum_function_evaluations_number = 30"
   ]
  },
  {
   "cell_type": "markdown",
   "metadata": {},
   "source": [
    "To activate only the drift compensation add "
   ]
  },
  {
   "cell_type": "code",
   "execution_count": 25,
   "metadata": {},
   "outputs": [],
   "source": [
    "optimization_dictionary['algorithm_settings'] = {\"algorithm_name\": \"dCRAB\",\n",
    "                                                 \"super_iteration_number\": super_iteration_number,\n",
    "                                                 \"max_eval_total\": super_iteration_number * maximum_function_evaluations_number,\n",
    "                                                 \"FoM_goal\": 0.00001,\n",
    "                                                 \"total_time_lim\": 60*1,\n",
    "                                                 \"compensate_drift\": {\n",
    "                                                     \"compensate_after_SI\": True,\n",
    "                                                     \"compensate_after_minutes\": 15\n",
    "                                                 },\n",
    "                                                 \"random_number_generator\":{\n",
    "                                                     \"seed_number\":420\n",
    "                                                 }\n",
    "}"
   ]
  },
  {
   "cell_type": "code",
   "execution_count": 26,
   "metadata": {},
   "outputs": [],
   "source": [
    "optimization_dictionary['algorithm_settings'][\"dsm_settings\"] = {'general_settings': {\n",
    "                                                                    \"dsm_algorithm_name\": \"NelderMead\", \n",
    "                                                                    'is_adaptive': False\n",
    "                                                                }, \n",
    "                                                                'stopping_criteria': {\n",
    "                                                                    \"max_eval\": 100,\n",
    "                                                                    \"time_lim\": 20,\n",
    "                                                                    \"xatol\": 1e-10, \n",
    "                                                                    \"frtol\": 1e-10}\n",
    "                                                                }"
   ]
  },
  {
   "cell_type": "markdown",
   "metadata": {},
   "source": [
    "### Times"
   ]
  },
  {
   "cell_type": "markdown",
   "metadata": {},
   "source": [
    "We can define here how many times we need to use in the optimization"
   ]
  },
  {
   "cell_type": "code",
   "execution_count": 27,
   "metadata": {},
   "outputs": [],
   "source": [
    "time_p = {'time_name': 'time_p', 'initial_value': 3.0}"
   ]
  },
  {
   "cell_type": "code",
   "execution_count": 28,
   "metadata": {},
   "outputs": [],
   "source": [
    "optimization_dictionary[\"times\"] = [time_p]"
   ]
  },
  {
   "cell_type": "markdown",
   "metadata": {},
   "source": [
    "### Parameters"
   ]
  },
  {
   "cell_type": "code",
   "execution_count": 29,
   "metadata": {},
   "outputs": [],
   "source": [
    "optimization_dictionary['parameters'] = []"
   ]
  },
  {
   "cell_type": "markdown",
   "metadata": {},
   "source": [
    "### Pulses"
   ]
  },
  {
   "cell_type": "code",
   "execution_count": 30,
   "metadata": {},
   "outputs": [],
   "source": [
    "pulse_amplitude = {'pulse_name': 'Amplitude', \n",
    "                   'upper_limit': 15.0, \n",
    "                   'lower_limit': 0.1, \n",
    "                   'bins_number': 101, \n",
    "                   'time_name': 'time_p', \n",
    "                   'amplitude_variation': 0.5, \n",
    "                   'basis': {'basis_name': 'Fourier', \n",
    "                             'basis_class': 'Fourier', \n",
    "                             'basis_module': 'quocslib.pulses.basis.Fourier', \n",
    "                             'basis_vector_number': 5, \n",
    "                             'random_super_parameter_distribution': \n",
    "                             {'distribution_name': 'Uniform', 'distribution_class': 'Uniform', \n",
    "                                   'distribution_module': 'quocslib.pulses.superparameter.Uniform', \n",
    "                                   'lower_limit': 0.1, 'upper_limit': 3.0}\n",
    "                            }, \n",
    "                   'scaling_function': {'function_type': 'lambda_function', 'lambda_function': 'lambda t: 1.0 + 0.0*t'}, \n",
    "                   'initial_guess': {'function_type': 'lambda_function', 'lambda_function': 'lambda t: np.pi/3 + 0.0*t'}\n",
    "                  }"
   ]
  },
  {
   "cell_type": "code",
   "execution_count": 31,
   "metadata": {},
   "outputs": [],
   "source": [
    "pulse_phase = {'pulse_name': 'Phase', \n",
    "               'upper_limit': 3.14, \n",
    "               'lower_limit': -3.14, \n",
    "               'bins_number': 101, \n",
    "               'time_name': 'time_p', \n",
    "               'amplitude_variation': 0.5, \n",
    "               'basis': {'basis_name': 'Fourier', \n",
    "                         'basis_class': 'Fourier', \n",
    "                         'basis_module': 'quocslib.pulses.basis.Fourier', \n",
    "                         'basis_vector_number': 5, \n",
    "                         'random_super_parameter_distribution': \n",
    "                         {'distribution_name': 'Uniform', 'distribution_class': 'Uniform', \n",
    "                          'distribution_module': 'quocslib.pulses.superparameter.Uniform', \n",
    "                          'lower_limit': 0.1, 'upper_limit': 3.0}}, \n",
    "               'scaling_function': {'function_type': 'lambda_function', 'lambda_function': 'lambda t: 1.0 + 0.0*t'}, \n",
    "               'initial_guess': {'function_type': 'lambda_function', 'lambda_function': 'lambda t: 0.0*t'}\n",
    "              }"
   ]
  },
  {
   "cell_type": "code",
   "execution_count": 32,
   "metadata": {},
   "outputs": [],
   "source": [
    "optimization_dictionary['pulses'] = [pulse_amplitude, pulse_phase]"
   ]
  },
  {
   "cell_type": "markdown",
   "metadata": {},
   "source": [
    "### Put all together and get ready to start the optimization with Qudi-QuOCS"
   ]
  },
  {
   "cell_type": "code",
   "execution_count": 33,
   "metadata": {},
   "outputs": [],
   "source": [
    "opti_comm_dict = {\"optimization_dictionary\": optimization_dictionary}"
   ]
  },
  {
   "cell_type": "markdown",
   "metadata": {},
   "source": [
    "Load the optimization algorithm into the optimization logic and display it into the GUI"
   ]
  },
  {
   "cell_type": "code",
   "execution_count": 34,
   "metadata": {},
   "outputs": [],
   "source": [
    "optimizationlogic.load_opti_comm_dict(opti_comm_dict)"
   ]
  },
  {
   "cell_type": "markdown",
   "metadata": {},
   "source": [
    "#### Important: If the GUI is not showing the optimization dictionary, restart the Kernel"
   ]
  },
  {
   "cell_type": "markdown",
   "metadata": {},
   "source": [
    "Print the optimization dictionary also here"
   ]
  },
  {
   "cell_type": "code",
   "execution_count": 35,
   "metadata": {
    "scrolled": true
   },
   "outputs": [
    {
     "data": {
      "text/plain": [
       "{'optimization_dictionary': {'algorithm_settings': {'algorithm_name': 'dCRAB', 'super_iteration_number': 1, 'max_eval_total': 30, 'FoM_goal': 1e-05, 'total_time_lim': 60, 'compensate_drift': {'compensate_after_SI': True, 'compensate_after_minutes': 15}, 'random_number_generator': {'seed_number': 420}, 'dsm_settings': {'general_settings': {'dsm_algorithm_name': 'NelderMead', 'is_adaptive': False}, 'stopping_criteria': {'max_eval': 100, 'time_lim': 20, 'xatol': 1e-10, 'frtol': 1e-10}}}, 'times': [{'time_name': 'time_p', 'initial_value': 3.0}], 'parameters': [], 'pulses': [{'pulse_name': 'Amplitude', 'upper_limit': 15.0, 'lower_limit': 0.1, 'bins_number': 101, 'time_name': 'time_p', 'amplitude_variation': 0.5, 'basis': {'basis_name': 'Fourier', 'basis_class': 'Fourier', 'basis_module': 'quocslib.pulses.basis.Fourier', 'basis_vector_number': 5, 'random_super_parameter_distribution': {'distribution_name': 'Uniform', 'distribution_class': 'Uniform', 'distribution_module': 'quocslib.pulses.superparameter.Uniform', 'lower_limit': 0.1, 'upper_limit': 3.0}}, 'scaling_function': {'function_type': 'lambda_function', 'lambda_function': 'lambda t: 1.0 + 0.0*t'}, 'initial_guess': {'function_type': 'lambda_function', 'lambda_function': 'lambda t: np.pi/3 + 0.0*t'}}, {'pulse_name': 'Phase', 'upper_limit': 3.14, 'lower_limit': -3.14, 'bins_number': 101, 'time_name': 'time_p', 'amplitude_variation': 0.5, 'basis': {'basis_name': 'Fourier', 'basis_class': 'Fourier', 'basis_module': 'quocslib.pulses.basis.Fourier', 'basis_vector_number': 5, 'random_super_parameter_distribution': {'distribution_name': 'Uniform', 'distribution_class': 'Uniform', 'distribution_module': 'quocslib.pulses.superparameter.Uniform', 'lower_limit': 0.1, 'upper_limit': 3.0}}, 'scaling_function': {'function_type': 'lambda_function', 'lambda_function': 'lambda t: 1.0 + 0.0*t'}, 'initial_guess': {'function_type': 'lambda_function', 'lambda_function': 'lambda t: 0.0*t'}}]}}"
      ]
     },
     "execution_count": 35,
     "metadata": {},
     "output_type": "execute_result"
    }
   ],
   "source": [
    "optimalcontrol.opti_comm_dict"
   ]
  },
  {
   "cell_type": "markdown",
   "metadata": {},
   "source": [
    "**CHANGE** : We have to provide the standard deviation to the dCRAB algorithm. \n",
    "\n",
    "To do so we use the function:\n",
    "\n",
    "``` fomlogic.update_fom(fom, std, status_code=0)```\n",
    "\n",
    "after the measurement. **std** stays for the experimental standard deviation."
   ]
  },
  {
   "cell_type": "markdown",
   "metadata": {},
   "source": [
    "Loop over 4 identical optimizations"
   ]
  },
  {
   "cell_type": "code",
   "execution_count": 36,
   "metadata": {},
   "outputs": [],
   "source": [
    "# Number of different optimizations\n",
    "opt_number = 4"
   ]
  },
  {
   "cell_type": "code",
   "execution_count": 38,
   "metadata": {
    "code_folding": []
   },
   "outputs": [
    {
     "name": "stdout",
     "output_type": "stream",
     "text": [
      "Optimization number 0\n",
      "Starting the optimization in 10 secs\n",
      "FoM: 0.2037600845653127, Std: 0.0, status_code: 0\n",
      "FoM: 0.3756856031143432, Std: 0.0, status_code: 0\n",
      "FoM: 0.023635853791326378, Std: 0.0, status_code: 0\n",
      "FoM: 0.3922109902219141, Std: 0.0, status_code: 0\n",
      "FoM: 0.47190702645457183, Std: 0.0, status_code: 0\n",
      "FoM: 2.2762416423960374e-05, Std: 0.0, status_code: 0\n",
      "FoM: 0.4741860854670238, Std: 0.0, status_code: 0\n",
      "FoM: 0.2886943900334934, Std: 0.0, status_code: 0\n",
      "FoM: 0.27229287867073937, Std: 0.0, status_code: 0\n",
      "FoM: 0.06015179900647538, Std: 0.0, status_code: 0\n",
      "FoM: 0.04175471761755645, Std: 0.0, status_code: 0\n",
      "FoM: 0.046841656670789655, Std: 0.0, status_code: 0\n",
      "FoM: 0.39174983511046546, Std: 0.0, status_code: 0\n",
      "FoM: 0.21882567657224716, Std: 0.0, status_code: 0\n",
      "FoM: 0.24564347762521144, Std: 0.0, status_code: 0\n",
      "FoM: 0.4609346310494774, Std: 0.0, status_code: 0\n",
      "FoM: 0.5021662061961452, Std: 0.0, status_code: 0\n",
      "FoM: 0.5705734252451189, Std: 0.0, status_code: 0\n",
      "FoM: 0.5496460870550004, Std: 0.0, status_code: 0\n",
      "FoM: 0.34135727083722434, Std: 0.0, status_code: 0\n",
      "FoM: 0.5102444983230519, Std: 0.0, status_code: 0\n",
      "FoM: 0.12639084808406487, Std: 0.0, status_code: 0\n",
      "FoM: 0.03186695243159221, Std: 0.0, status_code: 0\n",
      "FoM: 0.1175130982386764, Std: 0.0, status_code: 0\n",
      "FoM: 0.5488971171733679, Std: 0.0, status_code: 0\n",
      "FoM: 0.25471835245875196, Std: 0.0, status_code: 0\n",
      "FoM: 0.0020563385566032544, Std: 0.0, status_code: 0\n",
      "FoM: 0.004162008819495688, Std: 0.0, status_code: 0\n",
      "FoM: 0.0023516176178125514, Std: 0.0, status_code: 0\n",
      "FoM: 0.01905310266278848, Std: 0.0, status_code: 0\n",
      "Too much time... Exit!\n",
      "Stopping the measurement!\n",
      "Optimization nr 0 finished\n",
      "Optimization number 1\n",
      "Starting the optimization in 10 secs\n",
      "FoM: 0.2037600845653127, Std: 0.0, status_code: 0\n",
      "FoM: 0.3756856031143432, Std: 0.0, status_code: 0\n",
      "FoM: 0.023635853791326378, Std: 0.0, status_code: 0\n",
      "FoM: 0.3922109902219141, Std: 0.0, status_code: 0\n",
      "FoM: 0.47190702645457183, Std: 0.0, status_code: 0\n",
      "FoM: 2.2762416423960374e-05, Std: 0.0, status_code: 0\n",
      "FoM: 0.4741860854670238, Std: 0.0, status_code: 0\n",
      "FoM: 0.2886943900334934, Std: 0.0, status_code: 0\n",
      "FoM: 0.27229287867073937, Std: 0.0, status_code: 0\n",
      "FoM: 0.06015179900647538, Std: 0.0, status_code: 0\n",
      "FoM: 0.04175471761755645, Std: 0.0, status_code: 0\n",
      "FoM: 0.046841656670789655, Std: 0.0, status_code: 0\n",
      "FoM: 0.39174983511046546, Std: 0.0, status_code: 0\n",
      "FoM: 0.21882567657224716, Std: 0.0, status_code: 0\n",
      "FoM: 0.24564347762521144, Std: 0.0, status_code: 0\n",
      "FoM: 0.4609346310494774, Std: 0.0, status_code: 0\n",
      "FoM: 0.5021662061961452, Std: 0.0, status_code: 0\n",
      "FoM: 0.5705734252451189, Std: 0.0, status_code: 0\n",
      "FoM: 0.5496460870550004, Std: 0.0, status_code: 0\n",
      "FoM: 0.34135727083722434, Std: 0.0, status_code: 0\n",
      "FoM: 0.5102444983230519, Std: 0.0, status_code: 0\n",
      "FoM: 0.12639084808406487, Std: 0.0, status_code: 0\n",
      "FoM: 0.03186695243159221, Std: 0.0, status_code: 0\n",
      "FoM: 0.1175130982386764, Std: 0.0, status_code: 0\n",
      "FoM: 0.5488971171733679, Std: 0.0, status_code: 0\n",
      "FoM: 0.25471835245875196, Std: 0.0, status_code: 0\n",
      "FoM: 0.0020563385566032544, Std: 0.0, status_code: 0\n",
      "FoM: 0.004162008819495688, Std: 0.0, status_code: 0\n",
      "FoM: 0.0023516176178125514, Std: 0.0, status_code: 0\n",
      "FoM: 0.01905310266278848, Std: 0.0, status_code: 0\n",
      "Too much time... Exit!\n",
      "Stopping the measurement!\n",
      "Optimization nr 1 finished\n",
      "Optimization number 2\n",
      "Starting the optimization in 10 secs\n",
      "FoM: 0.2037600845653127, Std: 0.0, status_code: 0\n",
      "FoM: 0.3756856031143432, Std: 0.0, status_code: 0\n",
      "FoM: 0.023635853791326378, Std: 0.0, status_code: 0\n",
      "FoM: 0.3922109902219141, Std: 0.0, status_code: 0\n",
      "FoM: 0.47190702645457183, Std: 0.0, status_code: 0\n",
      "FoM: 2.2762416423960374e-05, Std: 0.0, status_code: 0\n",
      "FoM: 0.4741860854670238, Std: 0.0, status_code: 0\n",
      "FoM: 0.2886943900334934, Std: 0.0, status_code: 0\n",
      "FoM: 0.27229287867073937, Std: 0.0, status_code: 0\n",
      "FoM: 0.06015179900647538, Std: 0.0, status_code: 0\n",
      "FoM: 0.04175471761755645, Std: 0.0, status_code: 0\n",
      "FoM: 0.046841656670789655, Std: 0.0, status_code: 0\n",
      "FoM: 0.39174983511046546, Std: 0.0, status_code: 0\n",
      "FoM: 0.21882567657224716, Std: 0.0, status_code: 0\n",
      "FoM: 0.24564347762521144, Std: 0.0, status_code: 0\n",
      "FoM: 0.4609346310494774, Std: 0.0, status_code: 0\n",
      "FoM: 0.5021662061961452, Std: 0.0, status_code: 0\n",
      "FoM: 0.5705734252451189, Std: 0.0, status_code: 0\n",
      "FoM: 0.5496460870550004, Std: 0.0, status_code: 0\n",
      "FoM: 0.34135727083722434, Std: 0.0, status_code: 0\n",
      "FoM: 0.5102444983230519, Std: 0.0, status_code: 0\n",
      "FoM: 0.12639084808406487, Std: 0.0, status_code: 0\n",
      "FoM: 0.03186695243159221, Std: 0.0, status_code: 0\n",
      "FoM: 0.1175130982386764, Std: 0.0, status_code: 0\n",
      "FoM: 0.5488971171733679, Std: 0.0, status_code: 0\n",
      "FoM: 0.25471835245875196, Std: 0.0, status_code: 0\n",
      "FoM: 0.0020563385566032544, Std: 0.0, status_code: 0\n",
      "FoM: 0.004162008819495688, Std: 0.0, status_code: 0\n",
      "FoM: 0.0023516176178125514, Std: 0.0, status_code: 0\n",
      "FoM: 0.01905310266278848, Std: 0.0, status_code: 0\n",
      "Too much time... Exit!\n",
      "Stopping the measurement!\n",
      "Optimization nr 2 finished\n",
      "Optimization number 3\n",
      "Starting the optimization in 10 secs\n",
      "FoM: 0.2037600845653127, Std: 0.0, status_code: 0\n",
      "FoM: 0.3756856031143432, Std: 0.0, status_code: 0\n",
      "FoM: 0.023635853791326378, Std: 0.0, status_code: 0\n",
      "FoM: 0.3922109902219141, Std: 0.0, status_code: 0\n",
      "FoM: 0.47190702645457183, Std: 0.0, status_code: 0\n",
      "FoM: 2.2762416423960374e-05, Std: 0.0, status_code: 0\n",
      "FoM: 0.4741860854670238, Std: 0.0, status_code: 0\n",
      "FoM: 0.2886943900334934, Std: 0.0, status_code: 0\n",
      "FoM: 0.27229287867073937, Std: 0.0, status_code: 0\n",
      "FoM: 0.06015179900647538, Std: 0.0, status_code: 0\n",
      "FoM: 0.04175471761755645, Std: 0.0, status_code: 0\n",
      "FoM: 0.046841656670789655, Std: 0.0, status_code: 0\n",
      "FoM: 0.39174983511046546, Std: 0.0, status_code: 0\n",
      "FoM: 0.21882567657224716, Std: 0.0, status_code: 0\n",
      "FoM: 0.24564347762521144, Std: 0.0, status_code: 0\n",
      "FoM: 0.4609346310494774, Std: 0.0, status_code: 0\n",
      "FoM: 0.5021662061961452, Std: 0.0, status_code: 0\n",
      "FoM: 0.5705734252451189, Std: 0.0, status_code: 0\n",
      "FoM: 0.5496460870550004, Std: 0.0, status_code: 0\n",
      "FoM: 0.34135727083722434, Std: 0.0, status_code: 0\n",
      "FoM: 0.5102444983230519, Std: 0.0, status_code: 0\n",
      "FoM: 0.12639084808406487, Std: 0.0, status_code: 0\n",
      "FoM: 0.03186695243159221, Std: 0.0, status_code: 0\n",
      "FoM: 0.1175130982386764, Std: 0.0, status_code: 0\n",
      "FoM: 0.5488971171733679, Std: 0.0, status_code: 0\n",
      "FoM: 0.25471835245875196, Std: 0.0, status_code: 0\n",
      "FoM: 0.0020563385566032544, Std: 0.0, status_code: 0\n",
      "FoM: 0.004162008819495688, Std: 0.0, status_code: 0\n",
      "FoM: 0.0023516176178125514, Std: 0.0, status_code: 0\n",
      "FoM: 0.01905310266278848, Std: 0.0, status_code: 0\n",
      "Too much time... Exit!\n",
      "Stopping the measurement!\n",
      "Optimization nr 3 finished\n"
     ]
    }
   ],
   "source": [
    "for ii in range(opt_number):\n",
    "    print(\"Optimization number {0}\".format(ii))\n",
    "    controlslogic.are_pulses_calculated = False\n",
    "    ######################################################################################################\n",
    "    # Parameters and Settings\n",
    "    ######################################################################################################\n",
    "\n",
    "    # This section is devoted to the initialization in the pulsed logic and optimization logic of the main\n",
    "    # settings and parameters to be usde in the creation ofthe pulse sequence and the optimization\n",
    "    # Iteration, controls and figure of merit to compare with QuOCS\n",
    "    # Just an example for debug\n",
    "    args_dict = {\"is_noisy\": False}\n",
    "    qubit = OneQubit2Fields(args_dict)\n",
    "\n",
    "    ######################################################################################################\n",
    "    # Measurement\n",
    "    ######################################################################################################\n",
    "    optimalcontrol.start_optimization()\n",
    "    print(\"Starting the optimization in 10 secs\")\n",
    "    time.sleep(10)\n",
    "    # Just a time to check for latent time\n",
    "    last_time_fom = time.time()\n",
    "    # repeat the whole process until its manually stopped or QuOCS finished the optimization\n",
    "    # Wait few seconds before starting to get and return data\n",
    "    while not optimizationlogic.handle_exit_obj.is_user_running:\n",
    "        time.sleep(0.1)\n",
    "        if (time.time() - last_time_fom) > 30:\n",
    "            print(\"Problem at the beginning! Surpassed the 30 secs\")\n",
    "            break\n",
    "\n",
    "    while  optimizationlogic.handle_exit_obj.is_user_running == True:\n",
    "        # wait until QuOCS optimizes the controls\n",
    "        # print(\"Wait until the controls logic gives the controls\")\n",
    "        while not controlslogic.are_pulses_calculated:\n",
    "            time.sleep(0.1)\n",
    "            # If the waiting time exceed 10 seconds left stop the optimization\n",
    "            if time.time() - last_time_fom > 20:\n",
    "                print(\"Too much time... Exit!\")\n",
    "                optimizationlogic.handle_exit_obj.is_user_running = False\n",
    "                break\n",
    "\n",
    "        # If the optimization is not running just exit from the loop\n",
    "        if optimizationlogic.handle_exit_obj.is_user_running == False:\n",
    "            print('Stopping the measurement!')\n",
    "            # Update the pulse with the maximum number\n",
    "            # COMMENT THE FOLLOWING LINE\n",
    "            # fomlogic.update_fom(10**10, status_code=-1)\n",
    "            break\n",
    "        #######################################################################################################\n",
    "        # Get the Controls\n",
    "        #######################################################################################################\n",
    "        # Change the status of control calculations to avoid to evaluate the fom twice with the same controls\n",
    "        controlslogic.are_pulses_calculated = False\n",
    "        # Get the controls from the controls logic\n",
    "        pulses, parameters, timegrids = controlslogic.pulses, controlslogic.parameters, controlslogic.timegrids\n",
    "        #######################################################################################################\n",
    "        # Perform the measurement\n",
    "        #######################################################################################################\n",
    "        #\n",
    "        #\n",
    "        #######################################################################################################\n",
    "        # Calculate the figure of merit and the standard deviation\n",
    "        #######################################################################################################\n",
    "        # calculate the Figure of Merit\n",
    "        fom_dict = qubit.get_FoM(pulses, parameters, timegrids)\n",
    "        # Extract the fom and std\n",
    "        fom, std = fom_dict[\"FoM\"], fom_dict[\"std\"]\n",
    "        #######################################################################################################\n",
    "        # Return the figure of merit\n",
    "        #######################################################################################################\n",
    "        # Update the figure of merit and the standard deviation to the fom logic\n",
    "        fomlogic.update_fom(fom, std, status_code=0)\n",
    "        # update the last time the fom is calculated\n",
    "        last_time_fom = time.time()\n",
    "        #######################################################################################################\n",
    "        # Optional part\n",
    "        #######################################################################################################\n",
    "        # Print the data just for debug purpose\n",
    "        print(\"FoM: {fom}, Std: {std}, status_code: {status_code}\".format(fom=fom, std=std, status_code=0))\n",
    "    print(\"Optimization nr {0} finished\".format(ii))"
   ]
  }
 ],
 "metadata": {
  "kernelspec": {
   "display_name": "Qudi",
   "language": "python",
   "name": "qudi"
  },
  "language_info": {
   "codemirror_mode": {
    "name": "ipython",
    "version": "3.6.5"
   },
   "file_extension": ".py",
   "mimetype": "text/x-python",
   "name": "python",
   "nbconvert_exporter": "python",
   "pygments_lexer": "ipython3",
   "version": "3.6.5"
  },
  "toc": {
   "base_numbering": 1,
   "nav_menu": {},
   "number_sections": true,
   "sideBar": true,
   "skip_h1_title": false,
   "title_cell": "Table of Contents",
   "title_sidebar": "Contents",
   "toc_cell": false,
   "toc_position": {
    "height": "427px",
    "left": "456px",
    "top": "101px",
    "width": "171px"
   },
   "toc_section_display": true,
   "toc_window_display": true
  }
 },
 "nbformat": 4,
 "nbformat_minor": 5
}
